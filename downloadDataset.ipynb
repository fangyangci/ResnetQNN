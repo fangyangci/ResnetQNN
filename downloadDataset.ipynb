{
 "cells": [
  {
   "cell_type": "code",
   "execution_count": 1,
   "metadata": {},
   "outputs": [
    {
     "name": "stderr",
     "output_type": "stream",
     "text": [
      "c:\\Users\\fangyangci\\AppData\\Local\\anaconda3\\envs\\py311\\Lib\\site-packages\\tqdm\\auto.py:21: TqdmWarning: IProgress not found. Please update jupyter and ipywidgets. See https://ipywidgets.readthedocs.io/en/stable/user_install.html\n",
      "  from .autonotebook import tqdm as notebook_tqdm\n"
     ]
    }
   ],
   "source": [
    "# download src image + imagenet_classes.txt + _label.txt + _data.npz\n",
    "from datasets import load_dataset\n",
    "from pathlib import Path\n",
    "from PIL import Image\n",
    "import numpy as np\n",
    "import os\n",
    "import torchvision.transforms as transforms\n",
    "\n",
    "# 定义图像预处理步骤\n",
    "preprocess = transforms.Compose([\n",
    "    transforms.Resize(256),\n",
    "    transforms.CenterCrop(224),\n",
    "    transforms.ToTensor(),\n",
    "    transforms.Normalize(mean=[0.485, 0.456, 0.406], std=[0.229, 0.224, 0.225]),\n",
    "])\n",
    "\n",
    "def download_dataset(data_dir: Path, split: str, size: int):\n",
    "  image_dir = data_dir / str(split)\n",
    "  image_dir.mkdir(parents=True, exist_ok=True)\n",
    "\n",
    "  # Load the dataset in streaming mode to avoid downloading the full dataset\n",
    "  dataset = load_dataset(\n",
    "    'imagenet-1k',\n",
    "    split=split,\n",
    "    streaming=True,\n",
    "    trust_remote_code=True,\n",
    "  )\n",
    "\n",
    "  # 创建保存图片和标签的目录\n",
    "  label_file = os.path.join(image_dir, '_labels.txt')\n",
    "\n",
    "  labels = []\n",
    "  images = []\n",
    "  # 打开标签文件以写入标签信息\n",
    "  with open(label_file, 'w') as f:\n",
    "      for i, sample in enumerate(dataset):\n",
    "          # 可根据需要设置保存的样本数量，避免保存过多数据\n",
    "          if i >= size:  # 这里仅保存前 size 个样本，可根据需求修改\n",
    "              break\n",
    "          \n",
    "          # 获取图片和标签\n",
    "          image = sample['image']\n",
    "          label = sample['label']       \n",
    "\n",
    "          image_path = os.path.join(image_dir, f'{i}.jpg')\n",
    "          image.save(image_path)\n",
    "\n",
    "          # image = Image.open(image_path)\n",
    "\n",
    "          image = image.convert('RGB')\n",
    "          image = preprocess(image)\n",
    "          \n",
    "          images.append(image)\n",
    "          labels.append(label)\n",
    "\n",
    "          # 保存标签信息到文件\n",
    "          f.write(f'{i}.jpg,{label}\\n')\n",
    "\n",
    "  print(f\"Images saved to {image_dir} and labels saved to {label_file}.\")\n",
    "\n",
    "  np.savez(os.path.join(image_dir, '_data.npz'), images=np.array(images), labels=np.array(labels))"
   ]
  },
  {
   "cell_type": "code",
   "execution_count": 2,
   "metadata": {},
   "outputs": [
    {
     "name": "stdout",
     "output_type": "stream",
     "text": [
      "Images saved to C:\\Dev\\AI\\Models\\resnet\\data\\imagenet\\validation and labels saved to C:\\Dev\\AI\\Models\\resnet\\data\\imagenet\\validation\\_labels.txt.\n"
     ]
    }
   ],
   "source": [
    "from pathlib import Path\n",
    "\n",
    "data_dir = Path('./data/imagenet').resolve()\n",
    "data_dir.mkdir(parents=True, exist_ok=True)\n",
    "\n",
    "download_dataset(data_dir, 'validation', size=300)"
   ]
  },
  {
   "cell_type": "code",
   "execution_count": 3,
   "metadata": {},
   "outputs": [],
   "source": [
    "# Download ImageNet labels\n",
    "import urllib\n",
    "\n",
    "url, classFile = (\"https://raw.githubusercontent.com/pytorch/hub/master/imagenet_classes.txt\", os.path.join(data_dir, \"imagenet_classes.txt\"))\n",
    "try: urllib.URLopener().retrieve(url, classFile)\n",
    "except: urllib.request.urlretrieve(url, classFile)"
   ]
  },
  {
   "cell_type": "code",
   "execution_count": 4,
   "metadata": {},
   "outputs": [],
   "source": [
    "# url, imgFile = (\"https://github.com/pytorch/hub/raw/master/images/dog.jpg\", \"dog.jpg\")"
   ]
  }
 ],
 "metadata": {
  "kernelspec": {
   "display_name": "py311",
   "language": "python",
   "name": "python3"
  },
  "language_info": {
   "codemirror_mode": {
    "name": "ipython",
    "version": 3
   },
   "file_extension": ".py",
   "mimetype": "text/x-python",
   "name": "python",
   "nbconvert_exporter": "python",
   "pygments_lexer": "ipython3",
   "version": "3.11.10"
  }
 },
 "nbformat": 4,
 "nbformat_minor": 2
}

{
 "cells": [
  {
   "cell_type": "code",
   "execution_count": null,
   "metadata": {},
   "outputs": [
    {
     "name": "stderr",
     "output_type": "stream",
     "text": [
      "C:\\Users\\fangyangci\\AppData\\Local\\Temp\\ipykernel_6184\\3662643089.py:10: FutureWarning: You are using `torch.load` with `weights_only=False` (the current default value), which uses the default pickle module implicitly. It is possible to construct malicious pickle data which will execute arbitrary code during unpickling (See https://github.com/pytorch/pytorch/blob/main/SECURITY.md#untrusted-models for more details). In a future release, the default value for `weights_only` will be flipped to `True`. This limits the functions that could be executed during unpickling. Arbitrary objects will no longer be allowed to be loaded via this mode unless they are explicitly allowlisted by the user via `torch.serialization.add_safe_globals`. We recommend you start setting `weights_only=True` for any use case where you don't have full control of the loaded file. Please open an issue on GitHub for any issues related to this experimental feature.\n",
      "  model = torch.load(model_file + '.pth')\n"
     ]
    },
    {
     "data": {
      "text/plain": [
       "0.7666666666666667"
      ]
     },
     "execution_count": 1,
     "metadata": {},
     "output_type": "execute_result"
    }
   ],
   "source": [
    "# ptorch + Src Image to validate\n",
    "import torch\n",
    "import torchvision.transforms as transforms\n",
    "import os\n",
    "from PIL import Image\n",
    "\n",
    "model_file = 'resnet50'\n",
    "model = torch.load(model_file + '.pth')\n",
    "device = torch.device('cpu')\n",
    "\n",
    "model.to(device)\n",
    "model.eval()\n",
    "\n",
    "# 定义图像预处理步骤\n",
    "preprocess = transforms.Compose([\n",
    "    transforms.Resize(256),\n",
    "    transforms.CenterCrop(224),\n",
    "    transforms.ToTensor(),\n",
    "    transforms.Normalize(mean=[0.485, 0.456, 0.406], std=[0.229, 0.224, 0.225]),\n",
    "])\n",
    "\n",
    "# 定义推理函数\n",
    "def infer_image(image_path):\n",
    "    image = Image.open(image_path)\n",
    "    image = image.convert('RGB')\n",
    "    image = preprocess(image)\n",
    "    image = image.unsqueeze(0)  # 添加批次维度\n",
    "    with torch.no_grad():\n",
    "        output = model(image)\n",
    "    _, predicted = torch.max(output, 1)\n",
    "    return predicted.item()\n",
    "\n",
    "# 加载 labels.txt 文件并解析标签\n",
    "def load_labels(labels_file):\n",
    "    labels = {}\n",
    "    with open(labels_file, 'r') as f:\n",
    "        for line in f:\n",
    "            image_name, label = line.strip().split(',')\n",
    "            labels[image_name] = int(label)\n",
    "    return labels\n",
    "\n",
    "# 计算准确率\n",
    "def calculate_accuracy(validation_dir, labels_file):\n",
    "    labels = load_labels(labels_file)\n",
    "    correct = 0\n",
    "    total = 0\n",
    "    \n",
    "    for image_name in os.listdir(validation_dir):\n",
    "        if image_name.lower().endswith('.jpg'):\n",
    "            image_path = os.path.join(validation_dir, image_name)\n",
    "            if os.path.isfile(image_path):\n",
    "                predicted_label = infer_image(image_path)\n",
    "                true_label = labels.get(image_name)\n",
    "                if true_label is not None:\n",
    "                    if predicted_label == true_label:\n",
    "                        correct += 1\n",
    "                    total += 1\n",
    "    \n",
    "    accuracy = correct / total if total > 0 else 0\n",
    "    return accuracy\n",
    "\n",
    "validation_dir = r'data\\imagenet\\validation'\n",
    "calculate_accuracy(validation_dir, os.path.join(validation_dir, '_labels.txt'))\n"
   ]
  },
  {
   "cell_type": "code",
   "execution_count": 2,
   "metadata": {},
   "outputs": [
    {
     "name": "stderr",
     "output_type": "stream",
     "text": [
      "C:\\Users\\fangyangci\\AppData\\Local\\Temp\\ipykernel_6184\\1408581544.py:7: FutureWarning: You are using `torch.load` with `weights_only=False` (the current default value), which uses the default pickle module implicitly. It is possible to construct malicious pickle data which will execute arbitrary code during unpickling (See https://github.com/pytorch/pytorch/blob/main/SECURITY.md#untrusted-models for more details). In a future release, the default value for `weights_only` will be flipped to `True`. This limits the functions that could be executed during unpickling. Arbitrary objects will no longer be allowed to be loaded via this mode unless they are explicitly allowlisted by the user via `torch.serialization.add_safe_globals`. We recommend you start setting `weights_only=True` for any use case where you don't have full control of the loaded file. Please open an issue on GitHub for any issues related to this experimental feature.\n",
      "  model = torch.load(model_file + '.pth')\n"
     ]
    },
    {
     "name": "stdout",
     "output_type": "stream",
     "text": [
      "0.77\n"
     ]
    }
   ],
   "source": [
    "# ptorch + data.npz to validate\n",
    "import torch\n",
    "import numpy as np\n",
    "import os\n",
    "\n",
    "model_file = 'resnet50'\n",
    "model = torch.load(model_file + '.pth')\n",
    "device = torch.device('cpu')\n",
    "\n",
    "model.to(device)\n",
    "model.eval()\n",
    "\n",
    "validation_dir = r'data\\imagenet\\validation'\n",
    "\n",
    "# 加载npz文件中的数据\n",
    "data = np.load(os.path.join(validation_dir, '_data.npz'))\n",
    "images = data['images']\n",
    "labels = data['labels']\n",
    "\n",
    "with torch.no_grad():\n",
    "    output = model(torch.from_numpy(images))\n",
    "_, predicted = torch.max(output, 1)\n",
    "\n",
    "accuracy = (predicted.numpy() == labels).mean()\n",
    "print(accuracy)"
   ]
  }
 ],
 "metadata": {
  "kernelspec": {
   "display_name": "py311",
   "language": "python",
   "name": "python3"
  },
  "language_info": {
   "codemirror_mode": {
    "name": "ipython",
    "version": 3
   },
   "file_extension": ".py",
   "mimetype": "text/x-python",
   "name": "python",
   "nbconvert_exporter": "python",
   "pygments_lexer": "ipython3",
   "version": "3.11.10"
  }
 },
 "nbformat": 4,
 "nbformat_minor": 2
}

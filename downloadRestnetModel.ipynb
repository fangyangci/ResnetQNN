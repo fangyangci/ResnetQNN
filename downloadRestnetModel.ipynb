{
 "cells": [
  {
   "cell_type": "code",
   "execution_count": 1,
   "metadata": {},
   "outputs": [],
   "source": [
    "# url, imgFile = (\"https://github.com/pytorch/hub/raw/master/images/dog.jpg\", \"dog.jpg\")"
   ]
  },
  {
   "cell_type": "code",
   "execution_count": 2,
   "metadata": {},
   "outputs": [
    {
     "name": "stderr",
     "output_type": "stream",
     "text": [
      "Downloading: \"https://github.com/pytorch/vision/zipball/v0.10.0\" to C:\\Users\\fangyangci/.cache\\torch\\hub\\v0.10.0.zip\n",
      "Downloading: \"https://download.pytorch.org/models/resnet50-0676ba61.pth\" to C:\\Users\\fangyangci/.cache\\torch\\hub\\checkpoints\\resnet50-0676ba61.pth\n",
      "100%|██████████| 97.8M/97.8M [00:07<00:00, 13.6MB/s]\n"
     ]
    }
   ],
   "source": [
    "import torch\n",
    "model_file = 'resnet50'\n",
    "model = torch.hub.load('pytorch/vision:v0.10.0', model_file, pretrained=True)\n",
    "# or any of these variants\n",
    "# model = torch.hub.load('pytorch/vision:v0.10.0', 'resnet18', pretrained=True)\n",
    "# model = torch.hub.load('pytorch/vision:v0.10.0', 'resnet34', pretrained=True)\n",
    "# model = torch.hub.load('pytorch/vision:v0.10.0', 'resnet50', pretrained=True)\n",
    "# model = torch.hub.load('pytorch/vision:v0.10.0', 'resnet101', pretrained=True)\n",
    "# model = torch.hub.load('pytorch/vision:v0.10.0', 'resnet152', pretrained=True)\n",
    "model.eval()\n",
    "torch.save(model, model_file + '.pth')"
   ]
  },
  {
   "cell_type": "code",
   "execution_count": 3,
   "metadata": {},
   "outputs": [
    {
     "name": "stderr",
     "output_type": "stream",
     "text": [
      "C:\\Users\\fangyangci\\AppData\\Local\\Temp\\ipykernel_8540\\2311778610.py:6: FutureWarning: You are using `torch.load` with `weights_only=False` (the current default value), which uses the default pickle module implicitly. It is possible to construct malicious pickle data which will execute arbitrary code during unpickling (See https://github.com/pytorch/pytorch/blob/main/SECURITY.md#untrusted-models for more details). In a future release, the default value for `weights_only` will be flipped to `True`. This limits the functions that could be executed during unpickling. Arbitrary objects will no longer be allowed to be loaded via this mode unless they are explicitly allowlisted by the user via `torch.serialization.add_safe_globals`. We recommend you start setting `weights_only=True` for any use case where you don't have full control of the loaded file. Please open an issue on GitHub for any issues related to this experimental feature.\n",
      "  model = torch.load(model_file + '.pth')\n"
     ]
    },
    {
     "name": "stdout",
     "output_type": "stream",
     "text": [
      "模型已成功转换为 ONNX 格式并支持动态批处理大小。\n"
     ]
    }
   ],
   "source": [
    "import torch\n",
    "model_file = 'resnet50'\n",
    "torch.cuda.is_available()\n",
    "device = torch.device('cuda:0' if torch.cuda.is_available() else 'cpu')\n",
    "\n",
    "model = torch.load(model_file + '.pth')\n",
    "model = model.eval().to(device)\n",
    "\n",
    "# 定义输入张量\n",
    "input = torch.randn((1, 3, 224, 224), dtype=torch.float32).to(device)\n",
    "input = input.to(device)\n",
    "\n",
    "# 设置动态轴以处理可变大小的批次\n",
    "dynamic_axes = {\n",
    "    \"input\": {0: \"batch_size\"},\n",
    "    \"output\": {0: \"batch_size\"}\n",
    "}\n",
    "\n",
    "# 导出为 ONNX 格式\n",
    "torch.onnx.export(\n",
    "    model,\n",
    "    input,\n",
    "    model_file + \".onnx\",\n",
    "    export_params=True,\n",
    "    do_constant_folding=True,\n",
    "    input_names=[\"input\"],\n",
    "    output_names=[\"output\"],\n",
    "    dynamic_axes=dynamic_axes,\n",
    "    opset_version=11,\n",
    ")\n",
    "\n",
    "print(\"模型已成功转换为 ONNX 格式并支持动态批处理大小。\")\n",
    "\n",
    "# python -m onnxruntime.tools.make_dynamic_shape_fixed --dim_param batch_size --dim_value 1 resnet50.onnx resnet50.fixed.onnx"
   ]
  }
 ],
 "metadata": {
  "kernelspec": {
   "display_name": "cpu",
   "language": "python",
   "name": "python3"
  },
  "language_info": {
   "codemirror_mode": {
    "name": "ipython",
    "version": 3
   },
   "file_extension": ".py",
   "mimetype": "text/x-python",
   "name": "python",
   "nbconvert_exporter": "python",
   "pygments_lexer": "ipython3",
   "version": "3.11.11"
  }
 },
 "nbformat": 4,
 "nbformat_minor": 2
}
